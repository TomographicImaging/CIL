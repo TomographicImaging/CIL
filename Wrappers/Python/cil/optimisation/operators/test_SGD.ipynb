{
 "cells": [
  {
   "cell_type": "code",
   "execution_count": 10,
   "metadata": {},
   "outputs": [],
   "source": [
    "# -*- coding: utf-8 -*-\n",
    "#  Copyright 2019 - 2022 United Kingdom Research and Innovation\n",
    "#  Copyright 2019 - 2022 The University of Manchester\n",
    "#  Copyright 2019 - 2022 The University of Bath\n",
    "#\n",
    "#  Licensed under the Apache License, Version 2.0 (the \"License\");\n",
    "#  you may not use this file except in compliance with the License.\n",
    "#  You may obtain a copy of the License at\n",
    "#\n",
    "#      http://www.apache.org/licenses/LICENSE-2.0\n",
    "#\n",
    "#  Unless required by applicable law or agreed to in writing, software\n",
    "#  distributed under the License is distributed on an \"AS IS\" BASIS,\n",
    "#  WITHOUT WARRANTIES OR CONDITIONS OF ANY KIND, either express or implied.\n",
    "#  See the License for the specific language governing permissions and\n",
    "#  limitations under the License.\n",
    "#\n",
    "#   Authored by:    Claire Delplancke (University of Bath)\n",
    "#                   Evangelos Papoutsellis (UKRI-STFC)\n",
    "#                   Gemma Fardell (UKRI-STFC)\n",
    "#                   Laura Murgatroyd (UKRI-STFC)     \n",
    "\n"
   ]
  },
  {
   "cell_type": "code",
   "execution_count": 11,
   "metadata": {},
   "outputs": [],
   "source": [
    "# Import libraries\n",
    "  \n",
    "from cil.optimisation.algorithms import PDHG, SPDHG\n",
    "from cil.optimisation.operators import GradientOperator, BlockOperator\n",
    "from cil.optimisation.functions import IndicatorBox, BlockFunction, L2NormSquared, MixedL21Norm\n",
    " \n",
    "from cil.io import ZEISSDataReader\n",
    " \n",
    "from cil.processors import Slicer, Binner, TransmissionAbsorptionConverter\n",
    " \n",
    "from cil.plugins.astra.operators import ProjectionOperator\n",
    "from cil.plugins.ccpi_regularisation.functions import FGP_TV\n",
    " \n",
    "from cil.utilities.display import show2D\n",
    "from cil.utilities.jupyter import islicer\n",
    " \n",
    " \n",
    "import numpy as np\n",
    "import matplotlib.pyplot as plt\n",
    "import os"
   ]
  },
  {
   "cell_type": "markdown",
   "metadata": {},
   "source": [
    "# Data information\n",
    "\n",
    "In this demo, we use the **Walnut** found in [Jørgensen_et_all](https://zenodo.org/record/4822516#.YLXyAJMzZp8). In total, there are 6 individual micro Computed Tomography datasets in the native Zeiss TXRM/TXM format. The six datasets were acquired at the 3D Imaging Center at Technical University of Denmark in 2014 (HDTomo3D in 2016) as part of the ERC-funded project High-Definition Tomography (HDTomo) headed by Prof. Per Christian Hansen. \n",
    "\n",
    "This example requires the dataset walnut.zip from https://zenodo.org/record/4822516 :\n",
    "\n",
    "    https://zenodo.org/record/4822516/files/walnut.zip\n",
    "\n",
    "If running locally please download the data and update the `path` variable below."
   ]
  },
  {
   "cell_type": "code",
   "execution_count": 12,
   "metadata": {},
   "outputs": [],
   "source": [
    "path = '../../data/walnut/valnut'"
   ]
  },
  {
   "cell_type": "code",
   "execution_count": 13,
   "metadata": {},
   "outputs": [],
   "source": [
    "reader = ZEISSDataReader()\n",
    "filename = os.path.join(path, \"valnut_2014-03-21_643_28\",\"tomo-A\",\"valnut_tomo-A.txrm\")\n",
    "reader.set_up(file_name=filename)\n",
    "data3D = reader.read()\n",
    "\n",
    "# reorder data to match default order for Astra/Tigre operator\n",
    "data3D.reorder('astra')\n",
    "\n",
    "# Get Image and Acquisition geometries\n",
    "ag3D = data3D.geometry\n",
    "ig3D = ag3D.get_ImageGeometry()\n",
    "\n",
    "# Extract vertical slice\n",
    "data2D = data3D.get_slice(vertical='centre')\n",
    "\n",
    "# Select every 10 angles\n",
    "sliced_data = Slicer(roi={'angle':(0,1601,10)})(data2D)\n",
    "\n",
    "# Reduce background regions\n",
    "binned_data = Binner(roi={'horizontal':(120,-120,2)})(sliced_data)\n",
    "\n",
    "# Create absorption data \n",
    "data = TransmissionAbsorptionConverter()(binned_data) \n",
    "\n",
    "# Remove circular artifacts\n",
    "data -= np.mean(data.as_array()[80:100,0:30])\n",
    "\n",
    "# Get Image and Acquisition geometries for one slice\n",
    "ag2D = data.geometry\n",
    "ag2D.set_angles(ag2D.angles, initial_angle=0.2, angle_unit='radian')\n",
    "ig2D = ag2D.get_ImageGeometry()\n",
    "\n",
    "A = ProjectionOperator(ig2D, ag2D, device = \"gpu\")"
   ]
  },
  {
   "cell_type": "markdown",
   "metadata": {},
   "source": [
    "We need to define the following:\n",
    "\n",
    "- The operator $K=(K_1,\\dots,K_n)$.\n",
    "- The functions $F=(F_1,\\dots,F_N)$ and $G$.\n",
    "- The maximum number of iterations\n",
    "\n"
   ]
  },
  {
   "cell_type": "code",
   "execution_count": 14,
   "metadata": {},
   "outputs": [],
   "source": [
    "# Define number of subsets\n",
    "n_subsets = 10\n",
    "\n",
    "# Initialize the lists containing the F_i's and A_i's\n",
    "f_subsets = []\n",
    "A_subsets = []\n",
    "\n",
    "# Define F_i's and A_i's\n",
    "for i in range(n_subsets):\n",
    "    # Total number of angles\n",
    "    n_angles = len(ag2D.angles)\n",
    "    # Divide the data into subsets\n",
    "    data_subset = Slicer(roi = {'angle' : (i,n_angles,n_subsets)})(data)\n",
    "    \n",
    "    # Define A_i and put into list \n",
    "    ageom_subset = data_subset.geometry\n",
    "    Ai = ProjectionOperator(ig2D, ageom_subset)\n",
    "    A_subsets.append(Ai)\n",
    "    # Define F_i and put into list\n",
    "    fi = LeastSquares(A_i, b=data_subset)\n",
    "    f_subsets.append(fi)\n"
   ]
  },
  {
   "cell_type": "code",
   "execution_count": null,
   "metadata": {},
   "outputs": [],
   "source": [
    "\n",
    "\n",
    "class Sampling():\n",
    "    def __init__(self, num_subsets, prob=None, seed=99):\n",
    "        self.type=sampling_type\n",
    "        self.num_subsets=num_subsets\n",
    "        np.random.seed(seed)\n",
    "\n",
    "        if prob==None:\n",
    "            self.prob = [1/self.num_subsets] * self.num_subsets\n",
    "        else:\n",
    "            self.prob=prob\n",
    "    def next(self):\n",
    "        \n",
    "            return int(np.random.choice(self.num_subsets, 1, p=self.prob))\n",
    "        "
   ]
  },
  {
   "cell_type": "code",
   "execution_count": null,
   "metadata": {},
   "outputs": [],
   "source": []
  }
 ],
 "metadata": {
  "interpreter": {
   "hash": "43cbf82c2f716cd564b762322e13d4dbd881fd8a341d231fe608abc3118da208"
  },
  "kernelspec": {
   "display_name": "Python 3.9.13 ('cil_22.0.0')",
   "language": "python",
   "name": "python3"
  },
  "language_info": {
   "codemirror_mode": {
    "name": "ipython",
    "version": 3
   },
   "file_extension": ".py",
   "mimetype": "text/x-python",
   "name": "python",
   "nbconvert_exporter": "python",
   "pygments_lexer": "ipython3",
   "version": "3.10.12"
  }
 },
 "nbformat": 4,
 "nbformat_minor": 4
}
